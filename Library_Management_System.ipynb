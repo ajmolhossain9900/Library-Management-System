{
  "nbformat": 4,
  "nbformat_minor": 0,
  "metadata": {
    "colab": {
      "provenance": [],
      "authorship_tag": "ABX9TyNqO2AdgxVaVPH2XpZy3Vnv",
      "include_colab_link": true
    },
    "kernelspec": {
      "name": "python3",
      "display_name": "Python 3"
    },
    "language_info": {
      "name": "python"
    }
  },
  "cells": [
    {
      "cell_type": "markdown",
      "metadata": {
        "id": "view-in-github",
        "colab_type": "text"
      },
      "source": [
        "<a href=\"https://colab.research.google.com/github/ajmolhossain9900/Library-Management-System/blob/main/Library_Management_System.ipynb\" target=\"_parent\"><img src=\"https://colab.research.google.com/assets/colab-badge.svg\" alt=\"Open In Colab\"/></a>"
      ]
    },
    {
      "cell_type": "code",
      "execution_count": 16,
      "metadata": {
        "id": "RrLD37XfsNSd",
        "colab": {
          "base_uri": "https://localhost:8080/",
          "height": 176
        },
        "outputId": "27d55f92-3f57-431c-f689-8a5bdee9e9e7"
      },
      "outputs": [
        {
          "output_type": "error",
          "ename": "NameError",
          "evalue": "name 'main' is not defined",
          "traceback": [
            "\u001b[0;31m---------------------------------------------------------------------------\u001b[0m",
            "\u001b[0;31mNameError\u001b[0m                                 Traceback (most recent call last)",
            "\u001b[0;32m<ipython-input-16-99f0c1e48e4e>\u001b[0m in \u001b[0;36m<cell line: 59>\u001b[0;34m()\u001b[0m\n\u001b[1;32m     57\u001b[0m \u001b[0;34m\u001b[0m\u001b[0m\n\u001b[1;32m     58\u001b[0m \u001b[0;34m\u001b[0m\u001b[0m\n\u001b[0;32m---> 59\u001b[0;31m \u001b[0mmain\u001b[0m\u001b[0;34m(\u001b[0m\u001b[0;34m)\u001b[0m\u001b[0;34m\u001b[0m\u001b[0;34m\u001b[0m\u001b[0m\n\u001b[0m",
            "\u001b[0;31mNameError\u001b[0m: name 'main' is not defined"
          ]
        }
      ],
      "source": [
        "import pandas as pd\n",
        "import numpy as np\n",
        "import matplotlib.pyplot as plt\n",
        "\n",
        "import re\n",
        "class LibraryManagementSystem:\n",
        "  def init(self,file_name):\n",
        "    self.file_name=file_name\n",
        "    self.library_data=self.load_data\n",
        "  def load_data(self):\n",
        "    \"\"\"load library data from CSV into a Pandas DataFrame.\"\"\"\n",
        "    try:\n",
        "      return pd.read_CSV(self.file.name)\n",
        "    except FileNotFoundError:\n",
        "      print(\"Error:File not found!\")\n",
        "      return pd.DataFrame(columns=[\"Book ID\",\"Title\",\"Author\",\"Availability\",\"Borrower\"])\n",
        "  def save_data(self):\n",
        "    \"\"\"Save the current DataFrame back to the file.\"\"\"\n",
        "    self.library_data.to_csv(self.file_name,index=False)\n",
        "\n",
        "  def main():\n",
        "   system=LibraryManagementSystem('library_data.csv')\n",
        "   while True:\n",
        "    print(\"\\nLibrary Management System\")\n",
        "    print(\"1. View All Book\")\n",
        "    print(\"2.Add a New Book\")\n",
        "    print(\"3.Remove a New Book\")\n",
        "    print(\"4.Borrow a Book\")\n",
        "    print(\"5. Return a Book\")\n",
        "    print(\"6. Search a Book\")\n",
        "    print(\"7.View a statistics\")\n",
        "    print(\"8.Exit\")\n",
        "\n",
        "    choice=input(\"Enter your choice:\")\n",
        "\n",
        "\n",
        "    if choice=='1':\n",
        "      print(\"system.library_data\")\n",
        "    elif choice=='2':\n",
        "      system.add_book()\n",
        "    elif choice=='3':\n",
        "      system.remove_book()\n",
        "    elif choice=='4':\n",
        "      system.borrow_book()\n",
        "    elif choice=='5':\n",
        "      system.return_book()\n",
        "    elif choice=='6':\n",
        "      system.search_book()\n",
        "    elif choice=='7':\n",
        "      system.show_statistics()\n",
        "    elif choice=='8':\n",
        "      system.save_data()\n",
        "      print(\"Exiting system.Goodbye!\")\n",
        "      break\n",
        "    else:\n",
        "      print(\"Invalid choice! Please try again.\")\n",
        "\n",
        "\n",
        "main()"
      ]
    },
    {
      "cell_type": "code",
      "source": [
        "#add a new book\n",
        "def add_book(self):\n",
        "  \"\"\"Add a new book to the library.\"\"\"\n",
        "  book_id=input(\"Enter Book ID:\")\n",
        "  if not re.match(r'^Bk-\\D{3}$',book_id):\n",
        "    print(\"Invalid Book ID format.Use BK-XXX(e.g.,BK-001).\")\n",
        "    return\n",
        "\n",
        "  title=input(\"Enter Title:\")\n",
        "  author=input(\"Enter Author:\")\n",
        "  genre=input(\"Enter Genre:\")\n",
        "  availability=\"yes\"\n",
        "  borrower=\"\"\n",
        "\n",
        "  new_book=pd.DataFrame([[book_id,title,author,genre,availability,borrower]],columns=self.library_data.columns)\n",
        "  self.library_data=pd.concat([self.library_data,new_book],ignore_index=True)\n",
        "  print(\"Book added successfully\")"
      ],
      "metadata": {
        "id": "M1cTjdR8wRmv"
      },
      "execution_count": 5,
      "outputs": []
    },
    {
      "cell_type": "code",
      "source": [
        "#remove a book\n",
        "def remove_book(self):\n",
        "  \"\"\"Remove a book from the library by its ID:\"\"\"\n",
        "  book_id=input(\"Enter Book ID to remove:\")\n",
        "  if book_id in self.library_data['Book_ID'].values:\n",
        "    self.library_data=self.library_data[self.library_data['Book_ID']!=book_id]\n",
        "    print(\"Book removed successfully!\")\n",
        "  else:\n",
        "    print(\"Book ID not found!\")\n"
      ],
      "metadata": {
        "id": "gXdlt50W_ok4"
      },
      "execution_count": 6,
      "outputs": []
    },
    {
      "cell_type": "code",
      "source": [
        "#Borrow a Book\n",
        "def borrow_book(self):\n",
        "  \"\"\"Borrow a book:\"\"\"\n",
        "  book_ID=input(\"enter Book ID to borrow:\")\n",
        "  if book_id in self.library_data['Book_ID'].values:\n",
        "    self.library_data[self.library_data['Book ID']==book_id]\n",
        "    if book.iloc[0]['Availability']==\"yes\":\n",
        "      borrower=input(\"Enter Borrowers Name;\")\n",
        "      self.library_data.loc[self.library_data['Book ID']==book_id,'Availability']=\"No\"\n",
        "      self.library_data.loc[self.library_data['Book ID']==book_id,'borrower']=borrower\n",
        "      print(f\"  Book'{book.iloc[0]['title']}'borrowed by{borrower}.\")\n",
        "    else:\n",
        "      print(\"Book is already borrowed!\")\n",
        "  else:\n",
        "    print(\"Book ID not found\")\n"
      ],
      "metadata": {
        "id": "YQlGXDfuDMTh"
      },
      "execution_count": 7,
      "outputs": []
    },
    {
      "cell_type": "code",
      "source": [
        "#return a book\n",
        "\n",
        "def return_book(self):\n",
        "  \"\"\"Return a borrowed book\"\"\"\n",
        "  book_id=input(\"Enter Book ID to return:\")\n",
        "  if book_id in self.library_data['Book ID'].values:\n",
        "    self.library_data[self.library_data['Book ID']==Book_id]\n",
        "    if book.iloc[0]['Availability']==\"No\":\n",
        "     self.library_data.loc[self.library_data['Book ID']==book_id,'Availability']=\"yes\"\n",
        "     self.library_data.loc[self.library_data['Book ID']==book_id,'borrower']=borrower\n",
        "     print(f\"  Book'{book.iloc[0]['title']}'returned successfully.\")\n",
        "    else:\n",
        "      print(\"Book is not borrowed!\")\n",
        "  else:\n",
        "    print(\"Book ID not found\")\n"
      ],
      "metadata": {
        "id": "8jji-lgvQSqh"
      },
      "execution_count": 8,
      "outputs": []
    },
    {
      "cell_type": "code",
      "source": [
        "#Search and filter Books\n",
        "def search_books(self):\n",
        "  \"\"\"Search for books by Title,Auther,or Genre.\"\"\"\n",
        "  search_field=input(\"search by(Title/Auther/Genre):\").title()\n",
        "  if search_field not in ['Title','Auther','Genre']:\n",
        "    print(\"Invalid search field!\")\n",
        "    return\n",
        "  keyword=input(f\"Enter {search_field}:\")\n",
        "  results=self.library_data[self.library_data[search_field].str.contains(keyword,case=False,na=False)]\n",
        "  print(results if not results.empty else \"No matching books found.\")"
      ],
      "metadata": {
        "id": "QuT1jHOwXiZV"
      },
      "execution_count": 9,
      "outputs": []
    },
    {
      "cell_type": "code",
      "source": [
        "#Statistics and Visualization\n",
        "def show_statistics(self):\n",
        "  \"\"\"Display statistice and visualization.:\"\"\"\n",
        "  print(f\"Total Books:{len(self.library_data)}\")\n",
        "  most_Borrowed_Genre=self.library_data['Genre'][self.library_data['Availability']==\"No\"].mode()\n",
        "  print(f\"Most Borrowed Genre:{most_borrowed_genre.iloc[0] if not most_borrowed_genre.empty else 'None'}\")\n",
        "\n",
        "\n",
        "  #visualization\n",
        "  self.library_data['Genre'].value_counts().plot(kind='bar',title=\"Books by Genre\")\n",
        "  plt.show()\n",
        "  self.library_data['Availability'].value_counts().plot(kind='pie',title=\"Availability Status\",autopct='%1.1f%%')\n",
        "  plt.show()"
      ],
      "metadata": {
        "id": "BcXYYJVp8aey"
      },
      "execution_count": 10,
      "outputs": []
    },
    {
      "cell_type": "code",
      "source": [
        "#File handling\n",
        "\n",
        "def export_data(self,data):\n",
        "  \"\"\"Export filtered data to new csvfile.\"\"\"\n",
        "  file_name=input(\"Enter filename to save(e.g.,filtered_books.csv):\")\n",
        "  data.to_csv(file_name, index=False)\n",
        "  print(f\"Data exported to {file_name}.\")"
      ],
      "metadata": {
        "id": "es3PU12sBDFA"
      },
      "execution_count": 11,
      "outputs": []
    }
  ]
}