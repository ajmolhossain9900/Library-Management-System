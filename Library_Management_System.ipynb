{
  "nbformat": 4,
  "nbformat_minor": 0,
  "metadata": {
    "colab": {
      "provenance": [],
      "authorship_tag": "ABX9TyMmD0A2NGZ3qh860vwI3Z3e",
      "include_colab_link": true
    },
    "kernelspec": {
      "name": "python3",
      "display_name": "Python 3"
    },
    "language_info": {
      "name": "python"
    }
  },
  "cells": [
    {
      "cell_type": "markdown",
      "metadata": {
        "id": "view-in-github",
        "colab_type": "text"
      },
      "source": [
        "<a href=\"https://colab.research.google.com/github/ajmolhossain9900/Library-Management-System/blob/main/Library_Management_System.ipynb\" target=\"_parent\"><img src=\"https://colab.research.google.com/assets/colab-badge.svg\" alt=\"Open In Colab\"/></a>"
      ]
    },
    {
      "cell_type": "code",
      "execution_count": null,
      "metadata": {
        "id": "RrLD37XfsNSd",
        "colab": {
          "base_uri": "https://localhost:8080/",
          "height": 627
        },
        "outputId": "52207d4a-cac3-46c9-e471-c200c2dcd194"
      },
      "outputs": [
        {
          "name": "stdout",
          "output_type": "stream",
          "text": [
            "\n",
            "Library Management System\n",
            "1. View All Book\n",
            "2.Add a New Book\n",
            "3.Remove a New Book\n",
            "4.Borrow a Book\n",
            "5. Return a Book\n",
            "6. Search a Book\n",
            "7.View a statistics\n",
            "8.Exit\n",
            "Enter your choice:2\n"
          ]
        },
        {
          "output_type": "error",
          "ename": "NameError",
          "evalue": "name 'system' is not defined",
          "traceback": [
            "\u001b[0;31m---------------------------------------------------------------------------\u001b[0m",
            "\u001b[0;31mNameError\u001b[0m                                 Traceback (most recent call last)",
            "\u001b[0;32m<ipython-input-1-9ba69d52903e>\u001b[0m in \u001b[0;36m<cell line: 6>\u001b[0;34m()\u001b[0m\n\u001b[1;32m      4\u001b[0m \u001b[0;34m\u001b[0m\u001b[0m\n\u001b[1;32m      5\u001b[0m \u001b[0;32mimport\u001b[0m \u001b[0mre\u001b[0m\u001b[0;34m\u001b[0m\u001b[0;34m\u001b[0m\u001b[0m\n\u001b[0;32m----> 6\u001b[0;31m \u001b[0;32mclass\u001b[0m \u001b[0mLibraryManagementSystem\u001b[0m\u001b[0;34m:\u001b[0m\u001b[0;34m\u001b[0m\u001b[0;34m\u001b[0m\u001b[0m\n\u001b[0m\u001b[1;32m      7\u001b[0m   \u001b[0;32mdef\u001b[0m \u001b[0minit\u001b[0m\u001b[0;34m(\u001b[0m\u001b[0mself\u001b[0m\u001b[0;34m,\u001b[0m\u001b[0mfile_name\u001b[0m\u001b[0;34m)\u001b[0m\u001b[0;34m:\u001b[0m\u001b[0;34m\u001b[0m\u001b[0;34m\u001b[0m\u001b[0m\n\u001b[1;32m      8\u001b[0m     \u001b[0mself\u001b[0m\u001b[0;34m.\u001b[0m\u001b[0mfile_name\u001b[0m\u001b[0;34m=\u001b[0m\u001b[0mfile_name\u001b[0m\u001b[0;34m\u001b[0m\u001b[0;34m\u001b[0m\u001b[0m\n",
            "\u001b[0;32m<ipython-input-1-9ba69d52903e>\u001b[0m in \u001b[0;36mLibraryManagementSystem\u001b[0;34m()\u001b[0m\n\u001b[1;32m     39\u001b[0m       \u001b[0mprint\u001b[0m\u001b[0;34m(\u001b[0m\u001b[0msystem\u001b[0m\u001b[0;34m.\u001b[0m\u001b[0mlibrary_data\u001b[0m\u001b[0;34m)\u001b[0m\u001b[0;34m\u001b[0m\u001b[0;34m\u001b[0m\u001b[0m\n\u001b[1;32m     40\u001b[0m     \u001b[0;32melif\u001b[0m \u001b[0mchoice\u001b[0m\u001b[0;34m==\u001b[0m\u001b[0;34m'2'\u001b[0m\u001b[0;34m:\u001b[0m\u001b[0;34m\u001b[0m\u001b[0;34m\u001b[0m\u001b[0m\n\u001b[0;32m---> 41\u001b[0;31m       \u001b[0msystem\u001b[0m\u001b[0;34m.\u001b[0m\u001b[0madd_book\u001b[0m\u001b[0;34m(\u001b[0m\u001b[0;34m)\u001b[0m\u001b[0;34m\u001b[0m\u001b[0;34m\u001b[0m\u001b[0m\n\u001b[0m\u001b[1;32m     42\u001b[0m     \u001b[0;32melif\u001b[0m \u001b[0mchoice\u001b[0m\u001b[0;34m==\u001b[0m\u001b[0;34m'3'\u001b[0m\u001b[0;34m:\u001b[0m\u001b[0;34m\u001b[0m\u001b[0;34m\u001b[0m\u001b[0m\n\u001b[1;32m     43\u001b[0m       \u001b[0msystem\u001b[0m\u001b[0;34m.\u001b[0m\u001b[0mremove_book\u001b[0m\u001b[0;34m(\u001b[0m\u001b[0;34m)\u001b[0m\u001b[0;34m\u001b[0m\u001b[0;34m\u001b[0m\u001b[0m\n",
            "\u001b[0;31mNameError\u001b[0m: name 'system' is not defined"
          ]
        }
      ],
      "source": [
        "import pandas as pd\n",
        "import numpy as np\n",
        "import matplotlib.pyplot as plt\n",
        "\n",
        "import re\n",
        "class LibraryManagementSystem:\n",
        "  def init(self,file_name):\n",
        "    self.file_name=file_name\n",
        "    self.library_data=self.load_data\n",
        "  def load_data(self):\n",
        "    \"\"\"load library data from CSV into a Pandas DataFrame.\"\"\"\n",
        "    try:\n",
        "      return pd.read_CSV(self.file.name)\n",
        "    except FileNotFoundError:\n",
        "      print(\"Error:File not found!\")\n",
        "      return pd.DataFrame(columns=[\"Book ID\",\"Title\",\"Author\",\"Availability\",\"Borrower\"])\n",
        "  def save_data(self):\n",
        "    \"\"\"Save the current DataFrame back to the file.\"\"\"\n",
        "    self.library_data.to_csv(self.file_name,index=False)\n",
        "\n",
        "  def main():\n",
        "   system=LibraryManagementSystem('library_data.csv')\n",
        "\n",
        "  while True:\n",
        "    print(\"\\nLibrary Management System\")\n",
        "    print(\"1. View All Book\")\n",
        "    print(\"2.Add a New Book\")\n",
        "    print(\"3.Remove a New Book\")\n",
        "    print(\"4.Borrow a Book\")\n",
        "    print(\"5. Return a Book\")\n",
        "    print(\"6. Search a Book\")\n",
        "    print(\"7.View a statistics\")\n",
        "    print(\"8.Exit\")\n",
        "\n",
        "    choice=input(\"Enter your choice:\")\n",
        "\n",
        "\n",
        "    if choice=='1':\n",
        "      print(system.library_data)\n",
        "    elif choice=='2':\n",
        "      system.add_book()\n",
        "    elif choice=='3':\n",
        "      system.remove_book()\n",
        "    elif choice=='4':\n",
        "      system.borrow_book()\n",
        "    elif choice=='5':\n",
        "      system.return_book()\n",
        "    elif choice=='6':\n",
        "      system.search_book()\n",
        "    elif choice=='7':\n",
        "      system.show_statistics()\n",
        "    elif choice=='8':\n",
        "      system.save_data()\n",
        "      print(\"Exiting system.Goodbye!\")\n",
        "      break\n",
        "    else:\n",
        "      print(\"Invalid choice! Please try again.\")\n",
        "\n",
        "if _name_==\"_main\":\n",
        "  main()"
      ]
    },
    {
      "cell_type": "code",
      "source": [
        "#add a new book\n",
        "def add_book(self):\n",
        "  \"\"\"Add a new book to the library.\"\"\"\n",
        "  book_id=input(\"Enter Book ID:\")\n",
        "  if not re.match(r'^Bk-\\D{3}$',book_id):\n",
        "    print(\"Invalid Book ID format.Use BK-XXX(e.g.,BK-001).\")\n",
        "    return\n",
        "\n",
        "  title=input(\"Enter Title:\")\n",
        "  author=input(\"Enter Author:\")\n",
        "  genre=input(\"Enter Genre:\")\n",
        "  availability=\"yes\"\n",
        "  borrower=\"\"\n",
        "\n",
        "  new_book=pd.DataFrame([[book_id,title,author,genre,availability,borrower]],columns=self.library_data.columns)\n",
        "  self.library_data=pd.concat([self.library_data,new_book],ignore_index=True)\n",
        "  print(\"Book added successfully\")"
      ],
      "metadata": {
        "id": "M1cTjdR8wRmv"
      },
      "execution_count": null,
      "outputs": []
    },
    {
      "cell_type": "code",
      "source": [
        "#remove a book\n",
        "def remove_book(self):\n",
        "  \"\"\"Remove a book from the library by its ID:\"\"\"\n",
        "  book_id=input(\"Enter Book ID to remove:\")\n",
        "  if book_id in self.library_data['Book_ID'].values:\n",
        "    self.library_data=self.library_data[self.library_data['Book_ID']!=book_id]\n",
        "    print(\"Book removed successfully!\")\n",
        "  else:\n",
        "    print(\"Book ID not found!\")\n"
      ],
      "metadata": {
        "id": "gXdlt50W_ok4"
      },
      "execution_count": null,
      "outputs": []
    },
    {
      "cell_type": "code",
      "source": [
        "#Borrow a Book\n",
        "def borrow_book(self):\n",
        "  \"\"\"Borrow a book:\"\"\"\n",
        "  book_ID=input(\"enter Book ID to borrow:\")\n",
        "  if book_id in self.library_data['Book_ID'].values:\n",
        "    self.library_data[self.library_data['Book ID']==book_id]\n",
        "    if book.iloc[0]['Availability']==\"yes\":\n",
        "      borrower=input(\"Enter Borrowers Name;\")\n",
        "      self.library_data.loc[self.library_data['Book ID']==book_id,'Availability']=\"No\"\n",
        "      self.library_data.loc[self.library_data['Book ID']==book_id,'borrower']=borrower\n",
        "      print(f\"  Book'{book.iloc[0]['title']}'borrowed by{borrower}.\")\n",
        "    else:\n",
        "      print(\"Book is already borrowed!\")\n",
        "  else:\n",
        "    print(\"Book ID not found\")\n"
      ],
      "metadata": {
        "id": "YQlGXDfuDMTh"
      },
      "execution_count": null,
      "outputs": []
    },
    {
      "cell_type": "code",
      "source": [
        "#return a book\n",
        "\n",
        "def return_book(self):\n",
        "  \"\"\"Return a borrowed book\"\"\"\n",
        "  book_id=input(\"Enter Book ID to return:\")\n",
        "  if book_id in self.library_data['Book ID'].values:\n",
        "    self.library_data[self.library_data['Book ID']==Book_id]\n",
        "    if book.iloc[0]['Availability']==\"No\":\n",
        "     self.library_data.loc[self.library_data['Book ID']==book_id,'Availability']=\"yes\"\n",
        "     self.library_data.loc[self.library_data['Book ID']==book_id,'borrower']=borrower\n",
        "     print(f\"  Book'{book.iloc[0]['title']}'returned successfully.\")\n",
        "    else:\n",
        "      print(\"Book is not borrowed!\")\n",
        "  else:\n",
        "    print(\"Book ID not found\")\n"
      ],
      "metadata": {
        "id": "8jji-lgvQSqh"
      },
      "execution_count": null,
      "outputs": []
    },
    {
      "cell_type": "code",
      "source": [],
      "metadata": {
        "id": "QuT1jHOwXiZV"
      },
      "execution_count": null,
      "outputs": []
    }
  ]
}